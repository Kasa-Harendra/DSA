{
 "cells": [
  {
   "cell_type": "code",
   "execution_count": 97,
   "metadata": {},
   "outputs": [],
   "source": [
    "import networkx as nx\n",
    "import pandas as pd\n",
    "import random\n",
    "import time"
   ]
  },
  {
   "cell_type": "code",
   "execution_count": 98,
   "id": "ad6a946c",
   "metadata": {},
   "outputs": [],
   "source": [
    "visited = set()\n",
    "colored = set()\n",
    "\n",
    "colors_used = 0"
   ]
  },
  {
   "cell_type": "code",
   "execution_count": 99,
   "id": "d133045c",
   "metadata": {},
   "outputs": [],
   "source": [
    "graph ={\n",
    "    0: [1, 2, 5],\n",
    "    1: [0, 2, 3],\n",
    "    2: [0, 1, 3, 4],\n",
    "    3: [1, 2, 4, 6],\n",
    "    4: [2, 3, 5, 6],\n",
    "    5: [0, 4, 6],\n",
    "    6: [3, 4, 5, 7],\n",
    "    7: [6, 8, 9],\n",
    "    8: [7, 9],\n",
    "    9: [7, 8]\n",
    "}"
   ]
  },
  {
   "cell_type": "code",
   "execution_count": 100,
   "id": "ac4a378f",
   "metadata": {},
   "outputs": [],
   "source": [
    "# colors = ['magenta', 'brown', 'gold', 'silver', 'skyblue', 'pink', 'red', 'blue', 'green', 'yellow']\n",
    "\n",
    "colors = [color_val*1/len(graph) for color_val in range(len(graph))]\n",
    "color_index = {c: i for i, c in enumerate(colors)}"
   ]
  },
  {
   "cell_type": "code",
   "execution_count": 101,
   "id": "c516a318",
   "metadata": {},
   "outputs": [],
   "source": [
    "final_colors = {}"
   ]
  },
  {
   "cell_type": "code",
   "execution_count": 102,
   "id": "627fe884",
   "metadata": {},
   "outputs": [
    {
     "data": {
      "text/plain": [
       "{0.0, 0.1, 0.2, 0.3, 0.4, 0.5, 0.6, 0.7, 0.8, 0.9}"
      ]
     },
     "execution_count": 102,
     "metadata": {},
     "output_type": "execute_result"
    }
   ],
   "source": [
    "possible_node_colors = {key: set(colors) for key in graph}\n",
    "possible_node_colors[1]"
   ]
  },
  {
   "cell_type": "code",
   "execution_count": 103,
   "id": "534a0f38",
   "metadata": {},
   "outputs": [],
   "source": [
    "class NumberOfInsufficientColorsException(Exception):\n",
    "    def __str__(self):\n",
    "        return \"Insufficient Number of colors\""
   ]
  },
  {
   "cell_type": "code",
   "execution_count": 104,
   "id": "52e22e8b",
   "metadata": {},
   "outputs": [],
   "source": [
    "def color_node(node: str|int|float) -> None: \n",
    "    if node not in visited:\n",
    "        if len(possible_node_colors[node]) != 0:\n",
    "            color = possible_node_colors[node].pop()\n",
    "            final_colors[node] = color_index[color]\n",
    "            colored.add(node)\n",
    "        else:\n",
    "            raise NumberOfInsufficientColorsException\n",
    "        adjacency_list = graph[node]\n",
    "        if len(adjacency_list) != 0:\n",
    "            for each_node in adjacency_list:\n",
    "                if each_node not in visited:\n",
    "                    try:\n",
    "                        possible_node_colors[each_node].remove(color)\n",
    "                    except:\n",
    "                        continue\n",
    "def color_graph(graph: dict[str|int|float : list[str|int|float]]):\n",
    "    for node in graph:\n",
    "        try:\n",
    "            color_node(node)\n",
    "            visited.add(node)\n",
    "        except Exception as e:\n",
    "            print(e)\n",
    "            break"
   ]
  },
  {
   "cell_type": "code",
   "execution_count": 105,
   "id": "3ed64fd7",
   "metadata": {},
   "outputs": [
    {
     "name": "stdout",
     "output_type": "stream",
     "text": [
      "Greedy coloring: {0: 0, 1: 1, 2: 2, 3: 0, 4: 1, 5: 2, 6: 3, 7: 0, 8: 1, 9: 2}\n",
      "Welsh-Powell coloring: {2: 0, 3: 1, 4: 2, 6: 0, 0: 1, 1: 2, 5: 3, 7: 1, 8: 0, 9: 2}\n",
      "DSATUR coloring: {2: 0, 3: 1, 4: 2, 6: 0, 1: 2, 0: 1, 5: 3, 7: 1, 8: 0, 9: 2}\n"
     ]
    }
   ],
   "source": [
    "def greedy_coloring(graph):\n",
    "    result = {}\n",
    "    for node in sorted(graph.keys()):\n",
    "        neighbor_colors = set(result.get(neigh) for neigh in graph[node] if neigh in result)\n",
    "        for color in range(len(graph)):\n",
    "            if color not in neighbor_colors:\n",
    "                result[node] = color\n",
    "                break\n",
    "    return result\n",
    "\n",
    "def welsh_powell_coloring(graph):\n",
    "    # Sort nodes by descending degree\n",
    "    nodes = sorted(graph, key=lambda x: len(graph[x]), reverse=True)\n",
    "    result = {}\n",
    "    for node in nodes:\n",
    "        neighbor_colors = set(result.get(neigh) for neigh in graph[node] if neigh in result)\n",
    "        for color in range(len(graph)):\n",
    "            if color not in neighbor_colors:\n",
    "                result[node] = color\n",
    "                break\n",
    "    return result\n",
    "\n",
    "def dsatur_coloring(graph):\n",
    "    result = {}\n",
    "    saturation = {node: 0 for node in graph}\n",
    "    degrees = {node: len(neighs) for node, neighs in graph.items()}\n",
    "    uncolored = set(graph.keys())\n",
    "    while uncolored:\n",
    "        # Pick node with highest saturation, break ties by degree\n",
    "        node = max(uncolored, key=lambda n: (saturation[n], degrees[n]))\n",
    "        neighbor_colors = set(result.get(neigh) for neigh in graph[node] if neigh in result)\n",
    "        for color in range(len(graph)):\n",
    "            if color not in neighbor_colors:\n",
    "                result[node] = color\n",
    "                break\n",
    "        uncolored.remove(node)\n",
    "        for neigh in graph[node]:\n",
    "            if neigh in uncolored:\n",
    "                saturation[neigh] = len(set(result.get(n) for n in graph[neigh] if n in result))\n",
    "    return result\n",
    "\n",
    "# Run and compare\n",
    "greedy_colors = greedy_coloring(graph)\n",
    "welsh_powell_colors = welsh_powell_coloring(graph)\n",
    "dsatur_colors = dsatur_coloring(graph)\n",
    "\n",
    "print(\"Greedy coloring:\", greedy_colors)\n",
    "print(\"Welsh-Powell coloring:\", welsh_powell_colors)\n",
    "print(\"DSATUR coloring:\", dsatur_colors)"
   ]
  },
  {
   "cell_type": "code",
   "execution_count": 106,
   "id": "ea8d5104",
   "metadata": {},
   "outputs": [
    {
     "name": "stdout",
     "output_type": "stream",
     "text": [
      "Time for coloring: \n",
      "\n",
      "MyCode coloring time: 0.0001849\n",
      "Greedy coloring time: 0.0002091 seconds\n",
      "Welsh-Powell coloring time: 0.0002744 seconds\n",
      "DSATUR coloring time: 0.0002143 seconds\n"
     ]
    }
   ],
   "source": [
    "start_greedy = time.perf_counter()\n",
    "greedy_coloring(graph)\n",
    "end_greedy = time.perf_counter()\n",
    "greedy_time = end_greedy - start_greedy\n",
    "\n",
    "start_wp = time.perf_counter()\n",
    "welsh_powell_coloring(graph)\n",
    "end_wp = time.perf_counter()\n",
    "wp_time = end_wp - start_wp\n",
    "\n",
    "start_mycode = time.perf_counter()\n",
    "color_graph(graph)\n",
    "end_mycode = time.perf_counter()\n",
    "\n",
    "start_dsatur = time.perf_counter()\n",
    "dsatur_coloring(graph)\n",
    "end_dsatur = time.perf_counter()\n",
    "dsatur_time = end_dsatur - start_dsatur\n",
    "\n",
    "\n",
    "print(f\"Time for coloring: \\n\")\n",
    "print(f\"MyCode coloring time: {end_mycode-start_mycode:.7f}\")\n",
    "print(f\"Greedy coloring time: {greedy_time:.7f} seconds\")\n",
    "print(f\"Welsh-Powell coloring time: {wp_time:.7f} seconds\")\n",
    "print(f\"DSATUR coloring time: {dsatur_time:.7f} seconds\")"
   ]
  },
  {
   "cell_type": "markdown",
   "id": "b480df71",
   "metadata": {},
   "source": [
    "Time for coloring:\n",
    "\n",
    "MyCode coloring time: 0.0000955  \n",
    "Greedy coloring time: 0.0001054 seconds  \n",
    "Welsh-Powell coloring time: 0.0000985 seconds  \n",
    "DSATUR coloring time: 0.0001458 seconds  "
   ]
  },
  {
   "cell_type": "markdown",
   "id": "a659dc60",
   "metadata": {},
   "source": [
    "Time for coloring: \n",
    "\n",
    "MyCode coloring time: 0.0001719  \n",
    "Greedy coloring time: 0.0001839 seconds  \n",
    "Welsh-Powell coloring time: 0.0001873 seconds  \n",
    "DSATUR coloring time: 0.0002801 seconds"
   ]
  },
  {
   "cell_type": "code",
   "execution_count": 107,
   "id": "97656a6c",
   "metadata": {},
   "outputs": [
    {
     "data": {
      "text/plain": [
       "{0: 0, 1: 4, 2: 1, 3: 0, 4: 4, 5: 1, 6: 3, 7: 0, 8: 4, 9: 1}"
      ]
     },
     "execution_count": 107,
     "metadata": {},
     "output_type": "execute_result"
    }
   ],
   "source": [
    "final_colors"
   ]
  },
  {
   "cell_type": "code",
   "execution_count": 108,
   "id": "a1449859",
   "metadata": {},
   "outputs": [
    {
     "data": {
      "text/plain": [
       "4"
      ]
     },
     "execution_count": 108,
     "metadata": {},
     "output_type": "execute_result"
    }
   ],
   "source": [
    "colors_used = len(colors) - min([len(possible_node_colors[node]) for node in graph])\n",
    "colors_used"
   ]
  },
  {
   "cell_type": "code",
   "execution_count": 109,
   "id": "df88d76c",
   "metadata": {},
   "outputs": [],
   "source": [
    "g = nx.Graph()\n",
    "for node in graph:\n",
    "    g.add_node(node)\n",
    "\n",
    "for node in graph:\n",
    "    for adjacent_node in graph[node]:\n",
    "        try:\n",
    "            g.add_edge(node, adjacent_node)\n",
    "        except:\n",
    "            continue"
   ]
  },
  {
   "cell_type": "code",
   "execution_count": 110,
   "id": "19386e35",
   "metadata": {},
   "outputs": [
    {
     "data": {
      "text/plain": [
       "EdgeView([(0, 1), (0, 2), (0, 5), (1, 2), (1, 3), (2, 3), (2, 4), (3, 4), (3, 6), (4, 5), (4, 6), (5, 6), (6, 7), (7, 8), (7, 9), (8, 9)])"
      ]
     },
     "execution_count": 110,
     "metadata": {},
     "output_type": "execute_result"
    }
   ],
   "source": [
    "g.edges"
   ]
  },
  {
   "cell_type": "code",
   "execution_count": 111,
   "id": "e6df4e2e",
   "metadata": {},
   "outputs": [
    {
     "data": {
      "text/plain": [
       "NodeView((0, 1, 2, 3, 4, 5, 6, 7, 8, 9))"
      ]
     },
     "execution_count": 111,
     "metadata": {},
     "output_type": "execute_result"
    }
   ],
   "source": [
    "g.nodes"
   ]
  },
  {
   "cell_type": "code",
   "execution_count": 112,
   "id": "26969cb1",
   "metadata": {},
   "outputs": [
    {
     "data": {
      "image/png": "[encoded data removed]",
      "text/plain": [
       "<Figure size 600x400 with 1 Axes>"
      ]
     },
     "metadata": {},
     "output_type": "display_data"
    }
   ],
   "source": [
    "import matplotlib.pyplot as plt\n",
    "\n",
    "actual_nodecolors = [final_colors[n] for n in g.nodes]\n",
    "\n",
    "plt.figure(figsize=(6, 4))\n",
    "nx.draw(g, pos=nx.spring_layout(g), with_labels=True, node_color=actual_nodecolors)\n",
    "plt.show()"
   ]
  },
  {
   "cell_type": "code",
   "execution_count": null,
   "id": "8c993b03",
   "metadata": {},
   "outputs": [],
   "source": []
  }
 ],
 "metadata": {
  "kernelspec": {
   "display_name": "Python 3",
   "language": "python",
   "name": "python3"
  },
  "language_info": {
   "codemirror_mode": {
    "name": "ipython",
    "version": 3
   },
   "file_extension": ".py",
   "mimetype": "text/x-python",
   "name": "python",
   "nbconvert_exporter": "python",
   "pygments_lexer": "ipython3",
   "version": "3.11.9"
  }
 },
 "nbformat": 4,
 "nbformat_minor": 5
}
